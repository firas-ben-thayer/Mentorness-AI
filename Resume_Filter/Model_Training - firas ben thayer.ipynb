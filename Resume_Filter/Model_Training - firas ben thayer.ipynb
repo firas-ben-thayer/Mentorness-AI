{
 "cells": [
  {
   "cell_type": "code",
   "execution_count": 1,
   "metadata": {},
   "outputs": [],
   "source": [
    "from PyPDF2 import PdfReader\n",
    "import os\n",
    "import re\n",
    "import nltk\n",
    "from nltk.corpus import stopwords\n",
    "from nltk.tokenize import word_tokenize\n",
    "from sklearn.feature_extraction.text import TfidfVectorizer\n",
    "from sklearn.metrics.pairwise import cosine_similarity\n",
    "# nltk.download('stopwords')\n",
    "# nltk.download('punkt')"
   ]
  },
  {
   "cell_type": "code",
   "execution_count": 32,
   "metadata": {},
   "outputs": [],
   "source": [
    "Dataset = \"./Dataset\"\n",
    "Resume_dir = os.path.join(Dataset,\"Resumes\")\n",
    "Job_dir = os.path.join(Dataset,\"JobDescription\")\n",
    "resumedataset = []\n",
    "jobdataset = []\n",
    "resume = ''\n",
    "job =''\n",
    "jobs = []"
   ]
  },
  {
   "cell_type": "code",
   "execution_count": 33,
   "metadata": {},
   "outputs": [
    {
     "name": "stdout",
     "output_type": "stream",
     "text": [
      "./Dataset/Resumes/john_doe.pdf\n",
      "./Dataset/Resumes/barry_allen_fe.pdf\n",
      "./Dataset/Resumes/harvey_dent_mle.pdf\n",
      "./Dataset/Resumes/bruce_wayne_fullstack.pdf\n",
      "./Dataset/Resumes/alfred_pennyworth_pm.pdf\n"
     ]
    },
    {
     "data": {
      "text/plain": [
       "'Barry Allen\\nFront-End DeveloperGoogle HQ, Mountain View, CA, USA\\n♂¶obile-alt(123) 456-7890\\n/envel⌢peallthe.stars@google.com\\n/linkedin-inbwayne\\n/githubbwayne\\nObjective\\nSeeking a challenging role as a Front-End Developer where I can leverage my knowledge of UI/UX\\ndesign and modern web technologies to create intuitive and engaging user interfaces.\\nEducation\\n2018 – 2022 B.Tech, Computer Science and Engineering ,Indian Institute of Technology\\nDelhi , New Delhi, India\\nOverall GPA: 9.5/10\\nSkills\\nJavaScript (ES6+), TypeScript, HTML5, CSS3, Python, React, Redux, Angular,\\nVue.js, Node.js, Express.js, D3.js, Git, Docker, Webpack, Babel, Google Cloud\\nPlatform, Firebase, RESTful APIs, GraphQL, Agile Development, Test-Driven\\nDevelopment, Responsive Design, UI/UX\\nExperience\\nJune 2022 –\\nPresentSoftware Engineer (Front-End) ,Google , Mountain View, CA, USA\\nDeveloping intuitive and engaging user interfaces using React and Redux. Working closely\\nwith UX designers to implement responsive and accessible web design. Participating in\\nagile development processes, including sprint planning and code reviews. Collaborating with\\nback-end developers to integrate RESTful APIs and ensure seamless data flow.\\nProjects\\n2022 Personal Expense Tracker\\nDeveloped a personal expense tracker application using React, Redux, and Firebase. Imple-\\nmented user authentication using Firebase Auth and data storage using Firestore. Utilized\\nD3.js for data visualization to provide users with insights into their spending patterns.'"
      ]
     },
     "execution_count": 33,
     "metadata": {},
     "output_type": "execute_result"
    }
   ],
   "source": [
    "for file in os.listdir(Resume_dir):\n",
    "    reader = PdfReader(os.path.join(Resume_dir,file))\n",
    "    # print(os.path.join(Resume_dir,file))\n",
    "    number_of_pages = len(reader.pages)\n",
    "    for i in range(number_of_pages):\n",
    "        page = reader.pages[i]\n",
    "        text = page.extract_text()\n",
    "        resume += text\n",
    "    resumedataset += [resume]\n",
    "    resume = ''\n",
    "    i = 0\n",
    "resumedataset[1]"
   ]
  },
  {
   "cell_type": "code",
   "execution_count": 34,
   "metadata": {},
   "outputs": [],
   "source": [
    "for file in os.listdir(Job_dir):\n",
    "    reader = PdfReader(os.path.join(Job_dir,file))\n",
    "    jobs.append(os.path.splitext(file)[0])\n",
    "    number_of_pages = len(reader.pages)\n",
    "    for i in range(number_of_pages):\n",
    "        page = reader.pages[i]\n",
    "        text = page.extract_text()\n",
    "        job += text\n",
    "    jobdataset.append(job)"
   ]
  },
  {
   "cell_type": "code",
   "execution_count": 35,
   "metadata": {},
   "outputs": [
    {
     "name": "stdout",
     "output_type": "stream",
     "text": [
      "['job_desc_java_developer', 'job_desc_full_stack_engineer', 'job_desc_front_end_engineer', 'job_desc_product_manager']\n"
     ]
    }
   ],
   "source": [
    "print(jobs)"
   ]
  },
  {
   "cell_type": "code",
   "execution_count": 36,
   "metadata": {},
   "outputs": [],
   "source": [
    "# Define multiple universities names patterns\n",
    "sub_patterns = [\n",
    "    \n",
    "                '[A-Z][a-z]* [A-Z][a-z]* [A-Z][a-z]* University of [A-Z][a-z]* [A-Z][a-z]* at [A-Z][a-z]* [A-Z][a-z]*',\n",
    "                '[A-Z][a-z]* [A-Z][a-z]* [A-Z][a-z]* University of [A-Z][a-z]* [A-Z][a-z]* at [A-Z][a-z]*',\n",
    "                '[A-Z][a-z]* [A-Z][a-z]* [A-Z][a-z]* University of [A-Z][a-z]* at [A-Z][a-z]* [A-Z][a-z]*',\n",
    "                '[A-Z][a-z]* [A-Z][a-z]* [A-Z][a-z]* University of [A-Z][a-z]* at [A-Z][a-z]*',\n",
    "                '[A-Z][a-z]* [A-Z][a-z]* [A-Z][a-z]* University of [A-Z][a-z]* [A-Z][a-z]*',\n",
    "                '[A-Z][a-z]* [A-Z][a-z]* [A-Z][a-z]* University of [A-Z][a-z]*',\n",
    "    \n",
    "                '[A-Z][a-z]* [A-Z][a-z]* University of [A-Z][a-z]* [A-Z][a-z]* at [A-Z][a-z]* [A-Z][a-z]*',\n",
    "                '[A-Z][a-z]* [A-Z][a-z]* University of [A-Z][a-z]* [A-Z][a-z]* at [A-Z][a-z]*',\n",
    "                '[A-Z][a-z]* [A-Z][a-z]* University of [A-Z][a-z]* at [A-Z][a-z]* [A-Z][a-z]*',\n",
    "                '[A-Z][a-z]* [A-Z][a-z]* University of [A-Z][a-z]* at [A-Z][a-z]*',\n",
    "                '[A-Z][a-z]* [A-Z][a-z]* University of [A-Z][a-z]* [A-Z][a-z]*',\n",
    "                '[A-Z][a-z]* [A-Z][a-z]* University of [A-Z][a-z]*',\n",
    "    \n",
    "                '[A-Z][a-z]* University of [A-Z][a-z]* [A-Z][a-z]* at [A-Z][a-z]* [A-Z][a-z]*',\n",
    "                '[A-Z][a-z]* University of [A-Z][a-z]* [A-Z][a-z]* at [A-Z][a-z]*',\n",
    "                '[A-Z][a-z]* University of [A-Z][a-z]* at [A-Z][a-z]* [A-Z][a-z]*',\n",
    "                '[A-Z][a-z]* University of [A-Z][a-z]* at [A-Z][a-z]*',\n",
    "                '[A-Z][a-z]* University of [A-Z][a-z]* [A-Z][a-z]*',\n",
    "                '[A-Z][a-z]* University of [A-Z][a-z]*',\n",
    "    \n",
    "                'University of [A-Z][a-z]* [A-Z][a-z]* at [A-Z][a-z]* [A-Z][a-z]*',\n",
    "                'University of [A-Z][a-z]* [A-Z][a-z]* at [A-Z][a-z]*',\n",
    "                'University of [A-Z][a-z]* at [A-Z][a-z]* [A-Z][a-z]*',\n",
    "                'University of [A-Z][a-z]* at [A-Z][a-z]*',\n",
    "                'University of [A-Z][a-z]* [A-Z][a-z]*',\n",
    "                'University of [A-Z][a-z]*',\n",
    "    \n",
    "                '[A-Z][a-z]* [A-Z][a-z]* University',\n",
    "                '[A-Z][a-z]* University',\n",
    "                '[A-Z]* University',\n",
    "    \n",
    "                '[A-Z][a-z]* Institute of [A-Z][a-z]* & [A-Z][a-z]*',\n",
    "                '[A-Z][a-z]* Institute of [A-Z][a-z]* [A-Z][a-z]*',\n",
    "                '[A-Z][a-z]* Institute of [A-Z][a-z]*',\n",
    "    \n",
    "                '[A-Z][a-z]* [A-Z][a-z]* Community College',\n",
    "                '[A-Z][a-z]* Community College',\n",
    "    \n",
    "                'College of [A-Z][a-z]* & [A-Z][a-z]*',\n",
    "                '[A-Z][a-z]* [A-Z][a-z]* College of [A-Z][a-z]*',\n",
    "                '[A-Z]* College of [A-Z][a-z]*',\n",
    "                '[A-Z][a-z]* College of [A-Z][a-z]*',\n",
    "                '[A-Z][a-z]* [A-Z][a-z]* College',\n",
    "                '[A-Z][a-z]* College',\n",
    "    \n",
    "                '[A-Z][a-z]* [A-Z][a-z]* High School',\n",
    "                '[A-Z][a-z]* High School',\n",
    "    \n",
    "                '[A-Z][a-z]* [A-Z][a-z]* Military Academy',\n",
    "                '[A-Z][a-z]* Military Academy',\n",
    "    \n",
    "                'Universidad de los [A-Z][a-z]*',\n",
    "                'Universidad de las [A-Z][a-z]*',\n",
    "                'Universidad de [A-Z][a-z]*',\n",
    "\n",
    "                'Universidad [A-Z][a-z]* de [A-Z][a-z]* [A-Z][a-z]*',\n",
    "                'Universidad [A-Z][a-z]* de los [A-Z][a-z]*',\n",
    "                'Universidad [A-Z][a-z]* de las [A-Z][a-z]*',\n",
    "                'Universidad [A-Z][a-z]* de [A-Z][a-z]*',\n",
    "                ]"
   ]
  },
  {
   "cell_type": "code",
   "execution_count": 37,
   "metadata": {},
   "outputs": [],
   "source": [
    "# Join university patterns\n",
    "university_patterns = '({})'.format('|'.join(sub_patterns))"
   ]
  },
  {
   "cell_type": "code",
   "execution_count": 38,
   "metadata": {},
   "outputs": [],
   "source": [
    "class Document:\n",
    "    def __init__(self, text):\n",
    "        \n",
    "        self.text = text\n",
    "        self.firstName = \"\"\n",
    "        self.lastName = \"\"\n",
    "        self.emailAddress = \"\"\n",
    "        self.universities = []\n",
    "        \n",
    "    def get_first_name(self):\n",
    "\n",
    "        firstWords = self.text.split()[:10]\n",
    "        for word in firstWords:\n",
    "            if word.isdigit() == False and word[0].isupper() and word.lower() not in [\"page\", \"last\", \"updated\"] and len(word) > 1:\n",
    "                self.firstName = word\n",
    "                break\n",
    "                \n",
    "    def get_last_name(self):\n",
    "\n",
    "        firstWords = self.text.split()[self.text.split().index(self.firstName)+1:10]\n",
    "        for word in firstWords:\n",
    "            if word.isdigit() == False and word[0].isupper() and word.lower() not in [\"page\", \"last\", \"updated\"] and len(word) > 1:\n",
    "                self.lastName = word\n",
    "                break\n",
    "                \n",
    "    def get_email(self):\n",
    "        \n",
    "        match = re.search(r'[\\w.+-]+@[\\w-]+\\.[\\w.-]+', self.text)\n",
    "        self.emailAddress = match.group(0)\n",
    "        \n",
    "    def get_univerisities(self):\n",
    "        \n",
    "        university_matches = re.findall(university_patterns, self.text)\n",
    "        universities_to_remove = [\"University\",\"University \",\" University\",\" University \",\"College\"]\n",
    "        self.universities = list(set(university_matches))\n",
    "        \n",
    "        for university in universities_to_remove:\n",
    "            try:\n",
    "                self.universities.remove(university)\n",
    "            except:\n",
    "                pass\n",
    "    def preprocess_text(self):\n",
    "        stop_words = set(stopwords.words('english'))\n",
    "        word_tokens = word_tokenize(self.text.lower())\n",
    "        filtered_tokens = [word for word in word_tokens if word.isalpha() and word not in stop_words]\n",
    "        return filtered_tokens"
   ]
  },
  {
   "cell_type": "code",
   "execution_count": 39,
   "metadata": {},
   "outputs": [],
   "source": [
    "# Instantiate myResume variable\n",
    "# myResume = Document(resumedataset[0])\n",
    "# myJD = Document(jobdataset[0])\n",
    "\n",
    "# Obtain resume information\n",
    "# myResume.get_first_name()\n",
    "# myResume.get_last_name()\n",
    "# myResume.get_email()\n",
    "# myResume.get_univerisities()\n",
    "# myResume.preprocess_text()"
   ]
  },
  {
   "cell_type": "code",
   "execution_count": 40,
   "metadata": {},
   "outputs": [],
   "source": [
    "# Print results\n",
    "# print(f\"First name: {myResume.firstName}\")\n",
    "# print(f\"Last name: {myResume.lastName}\")\n",
    "# print(f\"Email address: {myResume.emailAddress}\")\n",
    "# print(f\"Universities: {myResume.universities}\")"
   ]
  },
  {
   "cell_type": "code",
   "execution_count": 41,
   "metadata": {},
   "outputs": [],
   "source": [
    "def calculate_similarity(resume_text, jd_text):\n",
    "        vectorizer = TfidfVectorizer()\n",
    "        vectors = vectorizer.fit_transform([resume_text, jd_text])\n",
    "        similarity_score = cosine_similarity(vectors)[0][1]\n",
    "        return similarity_score\n"
   ]
  },
  {
   "cell_type": "code",
   "execution_count": 51,
   "metadata": {},
   "outputs": [
    {
     "name": "stdout",
     "output_type": "stream",
     "text": [
      "5\n",
      "what are you looking for out of these jobs, choose by number ['job_desc_java_developer', 'job_desc_full_stack_engineer', 'job_desc_front_end_engineer', 'job_desc_product_manager']\n",
      "0.2926270794382915\n",
      "JOHN\n",
      "0.1514142953927146\n",
      "Barry\n",
      "0.11465514901308495\n",
      "Harvey\n",
      "0.24695640830448673\n",
      "Bruce\n",
      "0.31396393014440854\n",
      "Alfred\n",
      "The best candidate for this job is:  Alfred Pennyworth \n",
      "Their score is:  0.31396393014440854\n"
     ]
    }
   ],
   "source": [
    "def main():\n",
    "    best_score = 0\n",
    "    candidate_full_name = ''\n",
    "    print(len(resumedataset))\n",
    "    i = 0\n",
    "    print(\"what are you looking for out of these jobs, choose by number\",jobs)\n",
    "    while True:\n",
    "        choice_of_job = input()\n",
    "        if choice_of_job.isnumeric():\n",
    "            break\n",
    "        else:\n",
    "            print(\"Invalid input, please enter a number\")\n",
    "    myJD = Document(jobdataset[int(choice_of_job)-1])\n",
    "    preprocessed_jd_text = myJD.preprocess_text()\n",
    "    for i in range(len(resumedataset)):\n",
    "        resume = Document(resumedataset[i])\n",
    "        resume.get_first_name()\n",
    "        resume.get_last_name()\n",
    "        preprocessed_resume_text = resume.preprocess_text()\n",
    "        similarity_score = calculate_similarity(' '.join(preprocessed_resume_text), ' '.join(preprocessed_jd_text))\n",
    "        if best_score < similarity_score:\n",
    "            best_score = similarity_score\n",
    "            candidate_full_name = resume.firstName + \" \" + resume.lastName\n",
    "    print(\"The best candidate for this job is: \",candidate_full_name,\"\\nTheir score is: \",best_score)\n",
    "    # print(\"The similarity score between the resume and job description is: \", similarity_score)\n",
    "\n",
    "if __name__ == \"__main__\":\n",
    "    main()"
   ]
  }
 ],
 "metadata": {
  "kernelspec": {
   "display_name": "base",
   "language": "python",
   "name": "python3"
  },
  "language_info": {
   "codemirror_mode": {
    "name": "ipython",
    "version": 3
   },
   "file_extension": ".py",
   "mimetype": "text/x-python",
   "name": "python",
   "nbconvert_exporter": "python",
   "pygments_lexer": "ipython3",
   "version": "3.11.8"
  }
 },
 "nbformat": 4,
 "nbformat_minor": 2
}
